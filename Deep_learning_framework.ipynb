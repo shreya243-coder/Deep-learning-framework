{
  "nbformat": 4,
  "nbformat_minor": 0,
  "metadata": {
    "colab": {
      "provenance": []
    },
    "kernelspec": {
      "name": "python3",
      "display_name": "Python 3"
    },
    "language_info": {
      "name": "python"
    }
  },
  "cells": [
    {
      "cell_type": "markdown",
      "source": [
        "#Theoratical questions"
      ],
      "metadata": {
        "id": "hKsHAi9w1R8U"
      }
    },
    {
      "cell_type": "markdown",
      "source": [
        "\n",
        "### 🔷 **TensorFlow Related Questions**\n",
        "\n",
        "**1. What is TensorFlow 2.0, and how is it different from TensorFlow 1.x?**\n",
        "TensorFlow 2.0 is a more user-friendly and intuitive version of TensorFlow. It uses eager execution by default and integrates Keras tightly for building models easily.\n",
        "\n",
        "**2. How do you install TensorFlow 2.0?**\n",
        "Use the pip command:\n",
        "\n",
        "```bash\n",
        "pip install tensorflow  \n",
        "```\n",
        "\n",
        "**3. What is the primary function of the `tf.function` in TensorFlow 2.0?**\n",
        "`tf.function` converts a Python function into a high-performance TensorFlow graph, improving execution speed.\n",
        "\n",
        "**4. What is the purpose of the `Model` class in TensorFlow 2.0?**\n",
        "The `Model` class is used to define and train custom deep learning models using Keras APIs.\n",
        "\n",
        "**5. How do you create a neural network using TensorFlow 2.0?**\n",
        "Use Keras Sequential or Functional API. Example:\n",
        "\n",
        "```python\n",
        "model = tf.keras.Sequential([...])\n",
        "```\n",
        "\n",
        "**6. What is the importance of Tensor Space in TensorFlow?**\n",
        "Tensor space refers to the multi-dimensional data structure used to hold inputs, outputs, and model parameters in TensorFlow.\n",
        "\n",
        "**7. How can TensorBoard be integrated with TensorFlow 2.0?**\n",
        "Use `tf.keras.callbacks.TensorBoard()` during model training to visualize metrics like loss and accuracy.\n",
        "\n",
        "**8. What is the purpose of TensorFlow Playground?**\n",
        "It’s an interactive web tool to visualize how neural networks learn with different configurations and inputs.\n",
        "\n",
        "**9. What is Netron, and how is it useful for deep learning models?**\n",
        "Netron is a viewer for visualizing model architectures of formats like `.h5`, `.pb`, `.onnx`, etc. It helps understand model structure easily.\n",
        "\n",
        "**10. What is the difference between TensorFlow and PyTorch?**\n",
        "TensorFlow is more production-ready with static graphs; PyTorch is easier for research with dynamic graphs and Pythonic syntax.\n",
        "\n",
        "**11. How can you monitor training progress in TensorFlow 2.0?**\n",
        "Use callbacks like `ModelCheckpoint` and `TensorBoard`, and access metrics through `history` after training.\n",
        "\n",
        "**12. How does the Keras API fit into TensorFlow 2.0?**\n",
        "Keras is the high-level API in TensorFlow 2.0, used to quickly build, compile, and train models.\n",
        "\n",
        "**13. What is an example of a deep learning project using TensorFlow 2.0?**\n",
        "A real-time object detection app using a pre-trained model like MobileNet and TensorFlow Lite for mobile deployment.\n",
        "\n",
        "**14. What is the main advantage of using pre-trained models in TensorFlow and PyTorch?**\n",
        "Pre-trained models save time and resources by providing weights trained on large datasets, enabling transfer learning.\n",
        "\n",
        "---\n",
        "\n",
        "### 🔶 **PyTorch Related Questions**\n",
        "\n",
        "**15. How do you install PyTorch?**\n",
        "Visit [pytorch.org](https://pytorch.org) or use pip:\n",
        "\n",
        "```bash\n",
        "pip install torch torchvision  \n",
        "```\n",
        "\n",
        "**16. What is the basic structure of a PyTorch neural network?**\n",
        "Subclass `torch.nn.Module`, define layers in `__init__()`, and operations in `forward()`.\n",
        "\n",
        "**17. What is the significance of tensors in PyTorch?**\n",
        "Tensors are the core data structure, similar to NumPy arrays, used to store and manipulate data in deep learning.\n",
        "\n",
        "**18. What is the difference between `torch.Tensor` and `torch.cuda.Tensor`?**\n",
        "`torch.Tensor` is stored on CPU; `torch.cuda.Tensor` is stored on GPU for faster computation.\n",
        "\n",
        "**19. What is the purpose of the `torch.optim` module in PyTorch?**\n",
        "It provides optimization algorithms like SGD and Adam to update model parameters during training.\n",
        "\n",
        "**20. What are some common activation functions used in neural networks?**\n",
        "ReLU, Sigmoid, Tanh, and Softmax are commonly used to introduce non-linearity in models.\n",
        "\n",
        "**21. What is the difference between `torch.nn.Module` and `torch.nn.Sequential`?**\n",
        "`nn.Module` allows custom model architectures; `nn.Sequential` is simpler and chains layers linearly.\n",
        "\n"
      ],
      "metadata": {
        "id": "fepFHCmf21-X"
      }
    },
    {
      "cell_type": "markdown",
      "source": [
        "#Practical questions"
      ],
      "metadata": {
        "id": "LOTiuVxp4obd"
      }
    },
    {
      "cell_type": "code",
      "source": [
        "# 1. How do you install and verify that TensorFlow 2.0 was installed successfully?.\n",
        "\n",
        "!pip install tensorflow==2.13.0\n",
        "\n",
        "import tensorflow as tf\n",
        "tf.__version__"
      ],
      "metadata": {
        "id": "bY0Y5RLY6WC3"
      },
      "execution_count": null,
      "outputs": []
    },
    {
      "cell_type": "code",
      "source": [
        "# 2. How can you define a simple function in TensorFlow 2.0 to perform addition\n",
        "\n",
        "import tensorflow as tf\n",
        "\n",
        "def add_numbers(x, y):\n",
        "    return tf.add(x, y)\n",
        "\n",
        "result = add_numbers(5, 3)\n",
        "print(result)\n"
      ],
      "metadata": {
        "id": "KncxVVIc6oSL",
        "colab": {
          "base_uri": "https://localhost:8080/"
        },
        "outputId": "6058a52b-8be4-418c-f668-c3e9e32713b2"
      },
      "execution_count": 3,
      "outputs": [
        {
          "output_type": "stream",
          "name": "stdout",
          "text": [
            "tf.Tensor(8, shape=(), dtype=int32)\n"
          ]
        }
      ]
    },
    {
      "cell_type": "code",
      "source": [
        "# 3.How can you create a simple neural network in TensorFlow 2.0 with one hidden layer\n",
        "\n",
        "import tensorflow as tf\n",
        "from tensorflow.keras.models import Sequential\n",
        "from tensorflow.keras.layers import Dense\n",
        "\n",
        "model = Sequential([\n",
        "    Dense(10, activation='relu', input_shape=(4,)),\n",
        "    Dense(1)\n",
        "])\n",
        "\n",
        "model.compile(optimizer='adam', loss='mse')\n",
        "\n",
        "model.summary()\n"
      ],
      "metadata": {
        "colab": {
          "base_uri": "https://localhost:8080/",
          "height": 248
        },
        "id": "O5-sMeTbPMJ_",
        "outputId": "e35e6dad-1d6f-4235-dc55-4588dac6614b"
      },
      "execution_count": 5,
      "outputs": [
        {
          "output_type": "stream",
          "name": "stderr",
          "text": [
            "/usr/local/lib/python3.11/dist-packages/keras/src/layers/core/dense.py:87: UserWarning: Do not pass an `input_shape`/`input_dim` argument to a layer. When using Sequential models, prefer using an `Input(shape)` object as the first layer in the model instead.\n",
            "  super().__init__(activity_regularizer=activity_regularizer, **kwargs)\n"
          ]
        },
        {
          "output_type": "display_data",
          "data": {
            "text/plain": [
              "\u001b[1mModel: \"sequential\"\u001b[0m\n"
            ],
            "text/html": [
              "<pre style=\"white-space:pre;overflow-x:auto;line-height:normal;font-family:Menlo,'DejaVu Sans Mono',consolas,'Courier New',monospace\"><span style=\"font-weight: bold\">Model: \"sequential\"</span>\n",
              "</pre>\n"
            ]
          },
          "metadata": {}
        },
        {
          "output_type": "display_data",
          "data": {
            "text/plain": [
              "┏━━━━━━━━━━━━━━━━━━━━━━━━━━━━━━━━━┳━━━━━━━━━━━━━━━━━━━━━━━━┳━━━━━━━━━━━━━━━┓\n",
              "┃\u001b[1m \u001b[0m\u001b[1mLayer (type)                   \u001b[0m\u001b[1m \u001b[0m┃\u001b[1m \u001b[0m\u001b[1mOutput Shape          \u001b[0m\u001b[1m \u001b[0m┃\u001b[1m \u001b[0m\u001b[1m      Param #\u001b[0m\u001b[1m \u001b[0m┃\n",
              "┡━━━━━━━━━━━━━━━━━━━━━━━━━━━━━━━━━╇━━━━━━━━━━━━━━━━━━━━━━━━╇━━━━━━━━━━━━━━━┩\n",
              "│ dense (\u001b[38;5;33mDense\u001b[0m)                   │ (\u001b[38;5;45mNone\u001b[0m, \u001b[38;5;34m10\u001b[0m)             │            \u001b[38;5;34m50\u001b[0m │\n",
              "├─────────────────────────────────┼────────────────────────┼───────────────┤\n",
              "│ dense_1 (\u001b[38;5;33mDense\u001b[0m)                 │ (\u001b[38;5;45mNone\u001b[0m, \u001b[38;5;34m1\u001b[0m)              │            \u001b[38;5;34m11\u001b[0m │\n",
              "└─────────────────────────────────┴────────────────────────┴───────────────┘\n"
            ],
            "text/html": [
              "<pre style=\"white-space:pre;overflow-x:auto;line-height:normal;font-family:Menlo,'DejaVu Sans Mono',consolas,'Courier New',monospace\">┏━━━━━━━━━━━━━━━━━━━━━━━━━━━━━━━━━┳━━━━━━━━━━━━━━━━━━━━━━━━┳━━━━━━━━━━━━━━━┓\n",
              "┃<span style=\"font-weight: bold\"> Layer (type)                    </span>┃<span style=\"font-weight: bold\"> Output Shape           </span>┃<span style=\"font-weight: bold\">       Param # </span>┃\n",
              "┡━━━━━━━━━━━━━━━━━━━━━━━━━━━━━━━━━╇━━━━━━━━━━━━━━━━━━━━━━━━╇━━━━━━━━━━━━━━━┩\n",
              "│ dense (<span style=\"color: #0087ff; text-decoration-color: #0087ff\">Dense</span>)                   │ (<span style=\"color: #00d7ff; text-decoration-color: #00d7ff\">None</span>, <span style=\"color: #00af00; text-decoration-color: #00af00\">10</span>)             │            <span style=\"color: #00af00; text-decoration-color: #00af00\">50</span> │\n",
              "├─────────────────────────────────┼────────────────────────┼───────────────┤\n",
              "│ dense_1 (<span style=\"color: #0087ff; text-decoration-color: #0087ff\">Dense</span>)                 │ (<span style=\"color: #00d7ff; text-decoration-color: #00d7ff\">None</span>, <span style=\"color: #00af00; text-decoration-color: #00af00\">1</span>)              │            <span style=\"color: #00af00; text-decoration-color: #00af00\">11</span> │\n",
              "└─────────────────────────────────┴────────────────────────┴───────────────┘\n",
              "</pre>\n"
            ]
          },
          "metadata": {}
        },
        {
          "output_type": "display_data",
          "data": {
            "text/plain": [
              "\u001b[1m Total params: \u001b[0m\u001b[38;5;34m61\u001b[0m (244.00 B)\n"
            ],
            "text/html": [
              "<pre style=\"white-space:pre;overflow-x:auto;line-height:normal;font-family:Menlo,'DejaVu Sans Mono',consolas,'Courier New',monospace\"><span style=\"font-weight: bold\"> Total params: </span><span style=\"color: #00af00; text-decoration-color: #00af00\">61</span> (244.00 B)\n",
              "</pre>\n"
            ]
          },
          "metadata": {}
        },
        {
          "output_type": "display_data",
          "data": {
            "text/plain": [
              "\u001b[1m Trainable params: \u001b[0m\u001b[38;5;34m61\u001b[0m (244.00 B)\n"
            ],
            "text/html": [
              "<pre style=\"white-space:pre;overflow-x:auto;line-height:normal;font-family:Menlo,'DejaVu Sans Mono',consolas,'Courier New',monospace\"><span style=\"font-weight: bold\"> Trainable params: </span><span style=\"color: #00af00; text-decoration-color: #00af00\">61</span> (244.00 B)\n",
              "</pre>\n"
            ]
          },
          "metadata": {}
        },
        {
          "output_type": "display_data",
          "data": {
            "text/plain": [
              "\u001b[1m Non-trainable params: \u001b[0m\u001b[38;5;34m0\u001b[0m (0.00 B)\n"
            ],
            "text/html": [
              "<pre style=\"white-space:pre;overflow-x:auto;line-height:normal;font-family:Menlo,'DejaVu Sans Mono',consolas,'Courier New',monospace\"><span style=\"font-weight: bold\"> Non-trainable params: </span><span style=\"color: #00af00; text-decoration-color: #00af00\">0</span> (0.00 B)\n",
              "</pre>\n"
            ]
          },
          "metadata": {}
        }
      ]
    },
    {
      "cell_type": "code",
      "source": [
        "#5. How can you visualize the training progress using TensorFlow and Matplotlib?\n",
        "import tensorflow as tf\n",
        "import numpy as np\n",
        "import matplotlib.pyplot as plt\n",
        "\n",
        "x_train = np.random.rand(100, 4)\n",
        "y_train = np.random.rand(100, 1)\n",
        "\n",
        "model = tf.keras.Sequential([\n",
        "    tf.keras.layers.Dense(10, activation='relu', input_shape=(4,)),\n",
        "    tf.keras.layers.Dense(1)\n",
        "])\n",
        "\n",
        "model.compile(optimizer='adam', loss='mse')\n",
        "\n",
        "history = model.fit(x_train, y_train, epochs=20, validation_split=0.2)\n",
        "\n",
        "plt.plot(history.history['loss'], label='Training Loss')\n",
        "plt.plot(history.history['val_loss'], label='Validation Loss')\n",
        "plt.xlabel('Epoch')\n",
        "plt.ylabel('Loss')\n",
        "plt.title('Training Progress')\n",
        "plt.legend()\n",
        "plt.show()\n"
      ],
      "metadata": {
        "colab": {
          "base_uri": "https://localhost:8080/",
          "height": 1000
        },
        "id": "N8U-W3P1PgKo",
        "outputId": "407b1493-11f5-48da-a877-d7fe67095ffe"
      },
      "execution_count": 7,
      "outputs": [
        {
          "output_type": "stream",
          "name": "stdout",
          "text": [
            "Epoch 1/20\n",
            "\u001b[1m3/3\u001b[0m \u001b[32m━━━━━━━━━━━━━━━━━━━━\u001b[0m\u001b[37m\u001b[0m \u001b[1m1s\u001b[0m 137ms/step - loss: 0.2914 - val_loss: 0.3349\n",
            "Epoch 2/20\n",
            "\u001b[1m3/3\u001b[0m \u001b[32m━━━━━━━━━━━━━━━━━━━━\u001b[0m\u001b[37m\u001b[0m \u001b[1m0s\u001b[0m 56ms/step - loss: 0.2730 - val_loss: 0.3183\n",
            "Epoch 3/20\n",
            "\u001b[1m3/3\u001b[0m \u001b[32m━━━━━━━━━━━━━━━━━━━━\u001b[0m\u001b[37m\u001b[0m \u001b[1m0s\u001b[0m 58ms/step - loss: 0.2845 - val_loss: 0.3024\n",
            "Epoch 4/20\n",
            "\u001b[1m3/3\u001b[0m \u001b[32m━━━━━━━━━━━━━━━━━━━━\u001b[0m\u001b[37m\u001b[0m \u001b[1m0s\u001b[0m 37ms/step - loss: 0.2606 - val_loss: 0.2880\n",
            "Epoch 5/20\n",
            "\u001b[1m3/3\u001b[0m \u001b[32m━━━━━━━━━━━━━━━━━━━━\u001b[0m\u001b[37m\u001b[0m \u001b[1m0s\u001b[0m 38ms/step - loss: 0.2629 - val_loss: 0.2751\n",
            "Epoch 6/20\n",
            "\u001b[1m3/3\u001b[0m \u001b[32m━━━━━━━━━━━━━━━━━━━━\u001b[0m\u001b[37m\u001b[0m \u001b[1m0s\u001b[0m 46ms/step - loss: 0.2353 - val_loss: 0.2626\n",
            "Epoch 7/20\n",
            "\u001b[1m3/3\u001b[0m \u001b[32m━━━━━━━━━━━━━━━━━━━━\u001b[0m\u001b[37m\u001b[0m \u001b[1m0s\u001b[0m 51ms/step - loss: 0.2139 - val_loss: 0.2506\n",
            "Epoch 8/20\n",
            "\u001b[1m3/3\u001b[0m \u001b[32m━━━━━━━━━━━━━━━━━━━━\u001b[0m\u001b[37m\u001b[0m \u001b[1m0s\u001b[0m 58ms/step - loss: 0.1943 - val_loss: 0.2397\n",
            "Epoch 9/20\n",
            "\u001b[1m3/3\u001b[0m \u001b[32m━━━━━━━━━━━━━━━━━━━━\u001b[0m\u001b[37m\u001b[0m \u001b[1m0s\u001b[0m 68ms/step - loss: 0.2110 - val_loss: 0.2296\n",
            "Epoch 10/20\n",
            "\u001b[1m3/3\u001b[0m \u001b[32m━━━━━━━━━━━━━━━━━━━━\u001b[0m\u001b[37m\u001b[0m \u001b[1m0s\u001b[0m 53ms/step - loss: 0.1977 - val_loss: 0.2207\n",
            "Epoch 11/20\n",
            "\u001b[1m3/3\u001b[0m \u001b[32m━━━━━━━━━━━━━━━━━━━━\u001b[0m\u001b[37m\u001b[0m \u001b[1m0s\u001b[0m 56ms/step - loss: 0.1929 - val_loss: 0.2125\n",
            "Epoch 12/20\n",
            "\u001b[1m3/3\u001b[0m \u001b[32m━━━━━━━━━━━━━━━━━━━━\u001b[0m\u001b[37m\u001b[0m \u001b[1m0s\u001b[0m 69ms/step - loss: 0.1691 - val_loss: 0.2051\n",
            "Epoch 13/20\n",
            "\u001b[1m3/3\u001b[0m \u001b[32m━━━━━━━━━━━━━━━━━━━━\u001b[0m\u001b[37m\u001b[0m \u001b[1m0s\u001b[0m 63ms/step - loss: 0.1729 - val_loss: 0.1986\n",
            "Epoch 14/20\n",
            "\u001b[1m3/3\u001b[0m \u001b[32m━━━━━━━━━━━━━━━━━━━━\u001b[0m\u001b[37m\u001b[0m \u001b[1m0s\u001b[0m 72ms/step - loss: 0.1733 - val_loss: 0.1927\n",
            "Epoch 15/20\n",
            "\u001b[1m3/3\u001b[0m \u001b[32m━━━━━━━━━━━━━━━━━━━━\u001b[0m\u001b[37m\u001b[0m \u001b[1m0s\u001b[0m 70ms/step - loss: 0.1785 - val_loss: 0.1876\n",
            "Epoch 16/20\n",
            "\u001b[1m3/3\u001b[0m \u001b[32m━━━━━━━━━━━━━━━━━━━━\u001b[0m\u001b[37m\u001b[0m \u001b[1m0s\u001b[0m 75ms/step - loss: 0.1709 - val_loss: 0.1831\n",
            "Epoch 17/20\n",
            "\u001b[1m3/3\u001b[0m \u001b[32m━━━━━━━━━━━━━━━━━━━━\u001b[0m\u001b[37m\u001b[0m \u001b[1m0s\u001b[0m 76ms/step - loss: 0.1537 - val_loss: 0.1791\n",
            "Epoch 18/20\n",
            "\u001b[1m3/3\u001b[0m \u001b[32m━━━━━━━━━━━━━━━━━━━━\u001b[0m\u001b[37m\u001b[0m \u001b[1m0s\u001b[0m 37ms/step - loss: 0.1541 - val_loss: 0.1755\n",
            "Epoch 19/20\n",
            "\u001b[1m3/3\u001b[0m \u001b[32m━━━━━━━━━━━━━━━━━━━━\u001b[0m\u001b[37m\u001b[0m \u001b[1m0s\u001b[0m 45ms/step - loss: 0.1635 - val_loss: 0.1723\n",
            "Epoch 20/20\n",
            "\u001b[1m3/3\u001b[0m \u001b[32m━━━━━━━━━━━━━━━━━━━━\u001b[0m\u001b[37m\u001b[0m \u001b[1m0s\u001b[0m 38ms/step - loss: 0.1508 - val_loss: 0.1695\n"
          ]
        },
        {
          "output_type": "display_data",
          "data": {
            "text/plain": [
              "<Figure size 640x480 with 1 Axes>"
            ],
            "image/png": "[encoded data removed]"
          },
          "metadata": {}
        }
      ]
    },
    {
      "cell_type": "code",
      "source": [
        "# 5. How do you install PyTorch and verify the PyTorch installation\n",
        "\n",
        "!pip install torch torchvision\n",
        "\n",
        "import torch\n",
        "torch.__version__"
      ],
      "metadata": {
        "id": "Wb3d2aMASFyZ"
      },
      "execution_count": null,
      "outputs": []
    },
    {
      "cell_type": "code",
      "source": [
        "# 6.  How do you create a simple neural network in PyTorch\n",
        "\n",
        "import torch\n",
        "import torch.nn as nn\n",
        "import torch.optim as optim\n",
        "\n",
        "class SimpleNN(nn.Module):\n",
        "    def __init__(self):\n",
        "        super(SimpleNN, self).__init__()\n",
        "        self.hidden = nn.Linear(4, 10)\n",
        "        self.output = nn.Linear(10, 1)\n",
        "\n",
        "    def forward(self, x):\n",
        "        x = torch.relu(self.hidden(x))\n",
        "        x = self.output(x)\n",
        "        return x\n",
        "\n",
        "x_train = torch.rand(100, 4)\n",
        "y_train = torch.rand(100, 1)\n",
        "\n",
        "model = SimpleNN()\n",
        "criterion = nn.MSELoss()\n",
        "optimizer = optim.Adam(model.parameters(), lr=0.01)\n",
        "\n",
        "for epoch in range(20):\n",
        "    optimizer.zero_grad()\n",
        "    outputs = model(x_train)\n",
        "    loss = criterion(outputs, y_train)\n",
        "    loss.backward()\n",
        "    optimizer.step()\n",
        "    print(f\"Epoch {epoch+1}, Loss: {loss.item():.4f}\")\n",
        "\n"
      ],
      "metadata": {
        "colab": {
          "base_uri": "https://localhost:8080/"
        },
        "id": "q9B9J_wjSKRh",
        "outputId": "ac600f10-8fbd-499d-d5eb-e6ab15268cc8"
      },
      "execution_count": 9,
      "outputs": [
        {
          "output_type": "stream",
          "name": "stdout",
          "text": [
            "Epoch 1, Loss: 1.0693\n",
            "Epoch 2, Loss: 0.9617\n",
            "Epoch 3, Loss: 0.8637\n",
            "Epoch 4, Loss: 0.7741\n",
            "Epoch 5, Loss: 0.6926\n",
            "Epoch 6, Loss: 0.6191\n",
            "Epoch 7, Loss: 0.5519\n",
            "Epoch 8, Loss: 0.4902\n",
            "Epoch 9, Loss: 0.4332\n",
            "Epoch 10, Loss: 0.3808\n",
            "Epoch 11, Loss: 0.3326\n",
            "Epoch 12, Loss: 0.2888\n",
            "Epoch 13, Loss: 0.2490\n",
            "Epoch 14, Loss: 0.2132\n",
            "Epoch 15, Loss: 0.1814\n",
            "Epoch 16, Loss: 0.1538\n",
            "Epoch 17, Loss: 0.1307\n",
            "Epoch 18, Loss: 0.1124\n",
            "Epoch 19, Loss: 0.0989\n",
            "Epoch 20, Loss: 0.0902\n"
          ]
        }
      ]
    },
    {
      "cell_type": "code",
      "source": [
        "# 7.  How do you define a loss function and optimizer in PyTorch?\n",
        "\n",
        "loss_fn = nn.MSELoss()\n",
        "optimizer = optim.Adam(model.parameters(), lr=0.01)\n",
        "\n"
      ],
      "metadata": {
        "id": "vSLOY2PITXsl"
      },
      "execution_count": 10,
      "outputs": []
    },
    {
      "cell_type": "code",
      "source": [
        "# 8. How do you implement a custom loss function in PyTorch\n",
        "\n",
        "def custom_mse_loss(outputs, targets):\n",
        "  \"\"\"\n",
        "  Custom Mean Squared Error Loss function.\n",
        "  \"\"\"\n",
        "  return torch.mean((outputs - targets) ** 2)\n",
        "\n",
        "x_train = torch.rand(100, 4)\n",
        "y_train = torch.rand(100, 1)\n",
        "\n",
        "model = SimpleNN()\n",
        "optimizer = optim.Adam(model.parameters(), lr=0.01)\n",
        "\n",
        "for epoch in range(20):\n",
        "    optimizer.zero_grad()\n",
        "    outputs = model(x_train)\n",
        "\n",
        "    loss = custom_mse_loss(outputs, y_train)\n",
        "    loss.backward()\n",
        "    optimizer.step()\n",
        "    print(f\"Epoch {epoch+1}, Custom Loss: {loss.item():.4f}\")\n",
        "\n"
      ],
      "metadata": {
        "colab": {
          "base_uri": "https://localhost:8080/"
        },
        "id": "sZi8Fw5xTnR1",
        "outputId": "c47d24cc-fae1-4024-84e2-5554553669d3"
      },
      "execution_count": 11,
      "outputs": [
        {
          "output_type": "stream",
          "name": "stdout",
          "text": [
            "Epoch 1, Custom Loss: 0.0760\n",
            "Epoch 2, Custom Loss: 0.0725\n",
            "Epoch 3, Custom Loss: 0.0724\n",
            "Epoch 4, Custom Loss: 0.0734\n",
            "Epoch 5, Custom Loss: 0.0732\n",
            "Epoch 6, Custom Loss: 0.0724\n",
            "Epoch 7, Custom Loss: 0.0718\n",
            "Epoch 8, Custom Loss: 0.0717\n",
            "Epoch 9, Custom Loss: 0.0720\n",
            "Epoch 10, Custom Loss: 0.0722\n",
            "Epoch 11, Custom Loss: 0.0722\n",
            "Epoch 12, Custom Loss: 0.0719\n",
            "Epoch 13, Custom Loss: 0.0715\n",
            "Epoch 14, Custom Loss: 0.0713\n",
            "Epoch 15, Custom Loss: 0.0713\n",
            "Epoch 16, Custom Loss: 0.0714\n",
            "Epoch 17, Custom Loss: 0.0714\n",
            "Epoch 18, Custom Loss: 0.0714\n",
            "Epoch 19, Custom Loss: 0.0712\n",
            "Epoch 20, Custom Loss: 0.0710\n"
          ]
        }
      ]
    },
    {
      "cell_type": "code",
      "source": [
        "# 9. How do you save and load a TensorFlow model?\n",
        "\n",
        "# Save a TensorFlow model in the Keras H5 format\n",
        "model.save('my_model.h5')\n",
        "\n",
        "# Load a TensorFlow model from the Keras H5 format\n",
        "loaded_model = tf.keras.models.load_model('my_model.h5')\n",
        "\n",
        "# You can also save in the SavedModel format (recommended for TensorFlow 2.x)\n",
        "# Save a TensorFlow model in the SavedModel format\n",
        "tf.saved_model.save(model, 'my_saved_model')\n",
        "\n",
        "# Load a TensorFlow model from the SavedModel format\n",
        "loaded_saved_model = tf.saved_model.load('my_saved_model')\n"
      ],
      "metadata": {
        "id": "hNATsAA7UCWj"
      },
      "execution_count": null,
      "outputs": []
    }
  ]
}